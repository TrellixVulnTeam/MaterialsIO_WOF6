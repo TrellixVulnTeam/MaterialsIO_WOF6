{
 "cells": [
  {
   "cell_type": "code",
   "execution_count": 1,
   "metadata": {},
   "outputs": [],
   "source": [
    "from base import BaseParser"
   ]
  },
  {
   "cell_type": "code",
   "execution_count": 10,
   "metadata": {},
   "outputs": [
    {
     "data": {
      "text/plain": [
       "[['./mixins.py'],\n",
       " ['./LICENSE'],\n",
       " ['./Untitled.ipynb'],\n",
       " ['./README.md'],\n",
       " ['./base.py'],\n",
       " ['./__pycache__/mixins.cpython-36.pyc'],\n",
       " ['./__pycache__/base.cpython-36.pyc'],\n",
       " ['./.ipynb_checkpoints/Untitled-checkpoint.ipynb'],\n",
       " ['./.git/config'],\n",
       " ['./.git/HEAD'],\n",
       " ['./.git/description'],\n",
       " ['./.git/index'],\n",
       " ['./.git/packed-refs'],\n",
       " ['./.git/objects/ad/fc08335dd51b82800bd487951662baee6736ab'],\n",
       " ['./.git/objects/b4/d71cbdcf25ede7950e8a94b402b32aa6d55b47'],\n",
       " ['./.git/objects/e5/3c1fd4f14bc1939b02fab3f40cb600e0516ea7'],\n",
       " ['./.git/objects/89/0d12673bf661c20ec756433c1aa3c06c6ba658'],\n",
       " ['./.git/objects/1a/3d84f3536d3706e6898d3e680459e1249fab1d'],\n",
       " ['./.git/objects/19/59c8d9f2cfbdb668ecaf6d8b2d3741dc34d598'],\n",
       " ['./.git/objects/26/1eeb9e9f8b2b4b0d119366dda99c6fd7d35c64'],\n",
       " ['./.git/objects/81/05e487b78155cee313358cb5c830a9fe9cfcab'],\n",
       " ['./.git/objects/c3/7374606b150d5ce221f305e099f00a1f74e1c0'],\n",
       " ['./.git/objects/8c/d3ccf225a75b199d3c956b4468e7d714aa8ce7'],\n",
       " ['./.git/info/exclude'],\n",
       " ['./.git/logs/HEAD'],\n",
       " ['./.git/logs/refs/heads/master'],\n",
       " ['./.git/logs/refs/heads/class'],\n",
       " ['./.git/logs/refs/remotes/origin/HEAD'],\n",
       " ['./.git/hooks/commit-msg.sample'],\n",
       " ['./.git/hooks/pre-rebase.sample'],\n",
       " ['./.git/hooks/pre-commit.sample'],\n",
       " ['./.git/hooks/applypatch-msg.sample'],\n",
       " ['./.git/hooks/prepare-commit-msg.sample'],\n",
       " ['./.git/hooks/post-update.sample'],\n",
       " ['./.git/hooks/pre-applypatch.sample'],\n",
       " ['./.git/hooks/pre-push.sample'],\n",
       " ['./.git/hooks/update.sample'],\n",
       " ['./.git/refs/heads/master'],\n",
       " ['./.git/refs/heads/class'],\n",
       " ['./.git/refs/remotes/origin/HEAD'],\n",
       " ['./.vscode/settings.json']]"
      ]
     },
     "execution_count": 10,
     "metadata": {},
     "output_type": "execute_result"
    }
   ],
   "source": [
    "parser = BaseParser()\n",
    "parser.group('./')"
   ]
  },
  {
   "cell_type": "code",
   "execution_count": 17,
   "metadata": {},
   "outputs": [
    {
     "data": {
      "text/plain": [
       "[{},\n",
       " {},\n",
       " {},\n",
       " {},\n",
       " {},\n",
       " {},\n",
       " {},\n",
       " {},\n",
       " {},\n",
       " {},\n",
       " {},\n",
       " {},\n",
       " {},\n",
       " {},\n",
       " {},\n",
       " {},\n",
       " {},\n",
       " {},\n",
       " {},\n",
       " {},\n",
       " {},\n",
       " {},\n",
       " {},\n",
       " {},\n",
       " {},\n",
       " {},\n",
       " {},\n",
       " {},\n",
       " {},\n",
       " {},\n",
       " {},\n",
       " {},\n",
       " {},\n",
       " {},\n",
       " {},\n",
       " {},\n",
       " {},\n",
       " {},\n",
       " {},\n",
       " {},\n",
       " {}]"
      ]
     },
     "execution_count": 17,
     "metadata": {},
     "output_type": "execute_result"
    }
   ],
   "source": [
    "[parser.parse(group) for group in groups]"
   ]
  },
  {
   "cell_type": "code",
   "execution_count": null,
   "metadata": {},
   "outputs": [],
   "source": []
  }
 ],
 "metadata": {
  "kernelspec": {
   "display_name": "Python 3",
   "language": "python",
   "name": "python3"
  },
  "language_info": {
   "codemirror_mode": {
    "name": "ipython",
    "version": 3
   },
   "file_extension": ".py",
   "mimetype": "text/x-python",
   "name": "python",
   "nbconvert_exporter": "python",
   "pygments_lexer": "ipython3",
   "version": "3.6.5"
  }
 },
 "nbformat": 4,
 "nbformat_minor": 2
}
